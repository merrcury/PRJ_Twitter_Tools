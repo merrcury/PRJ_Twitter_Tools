{
 "cells": [
  {
   "cell_type": "markdown",
   "metadata": {},
   "source": [
    "This program helps us to test twitter api with some basic fetures"
   ]
  },
  {
   "cell_type": "code",
   "execution_count": 2,
   "metadata": {},
   "outputs": [
    {
     "name": "stdout",
     "output_type": "stream",
     "text": [
      "<twitter.api.Twitter object at 0x7ffa3c5a8748>\n",
      "Screen Names: [{'screen_name': '_mercurybuddy', 'indices': [0, 14]}, {'screen_name': 'JioCare', 'indices': [26, 34]}]\n",
      "URLs: []\n",
      "Hashtags :  [{'hashtag': 'Fall', 'indices': [91, 96]}, {'hashtag': 'miss', 'indices': [97, 102]}]\n",
      " 50+ Tweets  I want to use voicemail services but Its not available. #Fall #miss How much time it is going to take to be functional? Make service available.\n",
      "'''''''''''''''''''''''''''''''\n",
      " 50+ Tweets  I want to use voicemail services but Its not available.     How much time it is going to take to be functional? Make service available.\n"
     ]
    }
   ],
   "source": [
    "import twitter\n",
    "\n",
    "# Get your keys and tokens from the Twitter Dev Console\n",
    "CONSUMER_KEY = 'XXXXXXXXXXXXXXXXXXXXXXXXXXXX'\n",
    "CONSUMER_SECRET = 'XXXXXXXXXXXXXXXXXXXXXXXXXXXX'\n",
    "OAUTH_TOKEN = 'XXXXXXXXXXXXXXXXXXXXXXXXXXXX'\n",
    "OAUTH_TOKEN_SECRET = 'XXXXXXXXXXXXXXXXXXXXXXXXXXXX'\n",
    "\n",
    "auth = twitter.oauth.OAuth(OAUTH_TOKEN,OAUTH_TOKEN_SECRET,CONSUMER_KEY,CONSUMER_SECRET)\n",
    "\n",
    "twitter_api = twitter.Twitter(auth=auth)\n",
    "\n",
    "print(twitter_api)\n",
    "\n",
    "import twitter_text\n",
    "\n",
    "txt = \"@_mercurybuddy 50+ Tweets @JioCare I want to use voicemail services but Its not available. #Fall #miss How much time it is going to take to be functional? Make service available.\"\n",
    "\n",
    "ex= twitter_text.Extractor(txt)\n",
    "\n",
    "print(\"Screen Names:\" ,ex.extract_mentioned_screen_names_with_indices())\n",
    "print(\"URLs:\" ,ex.extract_urls_with_indices())\n",
    "print(\"Hashtags : \",ex.extract_hashtags_with_indices())\n",
    "\n",
    "\n",
    "\n",
    "l = ex.extract_mentioned_screen_names_with_indices()\n",
    "for x in l:\n",
    "    txt = txt.replace('@'+x[\"screen_name\"],'')\n",
    "\n",
    "print(txt)\n",
    "print(\"'''''''''''''''''''''''''''''''\")\n",
    "\n",
    "f = ex.extract_hashtags_with_indices()\n",
    "for x in f:\n",
    "    txt = txt.replace('#'+x['hashtag'],' ')\n",
    "\n",
    "print(txt)"
   ]
  }
 ],
 "metadata": {
  "kernelspec": {
   "display_name": "Python 3",
   "language": "python",
   "name": "python3"
  },
  "language_info": {
   "codemirror_mode": {
    "name": "ipython",
    "version": 3
   },
   "file_extension": ".py",
   "mimetype": "text/x-python",
   "name": "python",
   "nbconvert_exporter": "python",
   "pygments_lexer": "ipython3",
   "version": "3.7.1"
  }
 },
 "nbformat": 4,
 "nbformat_minor": 2
}
